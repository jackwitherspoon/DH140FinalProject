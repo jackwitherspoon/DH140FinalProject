{
 "cells": [
  {
   "cell_type": "markdown",
   "id": "581f3f9e-3966-4896-9e4d-5642262481ec",
   "metadata": {},
   "source": [
    "# \"DH 140: Final Project\"\n",
    "> \"Awesome summary\"\n",
    "\n",
    "- toc:true\n",
    "- branch: master\n",
    "- badges: true\n",
    "- comments: true\n",
    "- author: Hamel Husain & Jeremy Howard\n",
    "- categories: [fastpages, jupyter]"
   ]
  },
  {
   "cell_type": "markdown",
   "id": "fea68301-bb05-4de2-9cec-87f884463c74",
   "metadata": {},
   "source": [
    "<br><b>Name<b>: Jack Witherspoon\n",
    "<br><b>Class<b>: Digital Humanities 140\n",
    "<br><b>Term<b>: Winter 2022\n",
    "<br><b>Professor<b>: Ben Winjum\n"
   ]
  },
  {
   "cell_type": "markdown",
   "id": "d842dabd-2144-42ea-8204-9cc781fb9078",
   "metadata": {},
   "source": [
    "<h1>Project Title: Eastern State Penitentiary Analysis<h1>"
   ]
  },
  {
   "cell_type": "markdown",
   "id": "b096665d-7e23-4525-8e92-7631a12fdc73",
   "metadata": {},
   "source": [
    "<h3>Introduction:<h3>"
   ]
  },
  {
   "cell_type": "markdown",
   "id": "1b2cd3f0-dec2-4023-9ca4-561ee20e63e1",
   "metadata": {},
   "source": [
    "In this notebook I will look to explore the \"Prisoner records from the Eastern State Penitentiary\" data set. This data set records the admissions of prisoners number 20 through 1124, including name, crime, sentence, place of origin, race/ethnicity, time in and time out, and comments on moral and educational conditions. In particular I would like to focus on the relationships between a prisoner's ability to read and write and the characteristics of their imprisonment. Since this data set does not provide the education level of each prisoner I am using the prisoners ability to read and write as a proxy for at least some level of education. \n",
    "\n",
    "Another thing to note is that these prisoner records looked to have been transferred from another format, so many of the data points are incomplete or hard to analyze. These include things like combined columns, improper formatting, and missing information. Specifically there was one column that combined ethnicity, religion and occupation. In addition to the column having multiple data points combined into one there was also a significant amount missing for the ethnicity portion and much of the data was inconsistently ordered within the column. "
   ]
  },
  {
   "cell_type": "markdown",
   "id": "48fa8260-09ca-4083-947e-60b6e3089749",
   "metadata": {},
   "source": [
    "<h3>Background:<h3> \n"
   ]
  },
  {
   "cell_type": "markdown",
   "id": "6e2ba013-cb6e-42b9-aef2-6591022fca98",
   "metadata": {},
   "source": [
    "The Eastern State Penitentiary, also known as ESP, is a former American prison in Philadelphia, Pennsylvania. It is located at 2027 Fairmount Avenue between Corinthian Avenue and North 22nd Street in the Fairmount section of the city, and was operational from 1829 until 1971. The penitentiary refined the revolutionary system of separate incarceration first pioneered at the Walnut Street Jail which emphasized principles of reform rather than punishment.\n",
    "\n",
    "Notorious criminals such as Al Capone and bank robber Willie Sutton were held inside its innovative wagon wheel design. James Bruno (Big Joe) and several male relatives were incarcerated here between 1936 and 1948 for the alleged murders in the Kelayres massacre of 1934, before they were paroled. At its completion, the building was the largest and most expensive public structure ever erected in the United States, and quickly became a model for more than 300 prisons worldwide."
   ]
  },
  {
   "cell_type": "markdown",
   "id": "dd4ce5c2-9caa-41ab-9b86-4409b07983a5",
   "metadata": {},
   "source": [
    "<h3>Data Cleaning:<h3> "
   ]
  },
  {
   "cell_type": "markdown",
   "id": "59c8e071-6e80-4601-a79d-33ea1f627a7a",
   "metadata": {},
   "source": [
    "The data set I am working with for this project is  \"Prisoner records from the Eastern State Penitentiary\". Upon working with this data it became clear that this had been transferred over from another format to CSV as the data appeared very messy. For example there was a conjoined column of ethnicity, occupation and religion where much of the data in that column was out of order or missing. This was a similar case for the “Column Notes” where much of the data was conjoined together. To solve this problem prior to uploading the data to Jupyter Notebooks I delimited the respective columns in Excel and filtered for the blank values to fill them in with a “N/A” value. There was excess data in the “Column Notes” when I delimited the column that I did not have any use for so I removed that data from the file. In addition, there was also some misspelling in the “Offense” column that I corrected and to consolidate the different data types. Lastly, there were two other text heavy columns; “Notes” and “Discharge Notes” that I did not end up using in my analysis so did not delimit or clean in any way. Once the data cleaning was complete I converted the xlsx file to a csv file to upload to jupyter notebooks."
   ]
  },
  {
   "cell_type": "markdown",
   "id": "f06576d9-c28a-4b96-9851-b0b18791bec4",
   "metadata": {},
   "source": [
    "<h3>Questions:<h3>\n",
    "\n"
   ]
  },
  {
   "cell_type": "markdown",
   "id": "7953434f-5be9-42ec-a6bb-c926ea5ba533",
   "metadata": {},
   "source": [
    "1. What does the typical prisoner at Eastern State Penitentiary look like?\n",
    "\n",
    "2. What effect does education have on the length of a prisoner's sentence?\n",
    "\n",
    "3. What relationship does the number of convictions have on the prisoner's length of sentence?\n",
    "\n",
    "\n"
   ]
  },
  {
   "cell_type": "markdown",
   "id": "df3a2e75-da69-455b-811c-baa429a55d9c",
   "metadata": {},
   "source": [
    "<h3>Summary Statistics and Exploratory Data Visualizations:<h3>"
   ]
  },
  {
   "cell_type": "code",
   "execution_count": 1,
   "id": "16634536-9022-4008-88de-16f27f13cce7",
   "metadata": {},
   "outputs": [],
   "source": [
    "#Importing Libraries\n",
    "\n",
    "import pandas as pd\n",
    "import csv\n",
    "import matplotlib.pyplot as plt\n",
    "from scipy import stats\n",
    "import numpy as np\n",
    "from sklearn.preprocessing import scale\n",
    "import statsmodels.api as sm\n",
    "import statsmodels.formula.api as smf\n",
    "from statsmodels.formula.api import ols"
   ]
  },
  {
   "cell_type": "code",
   "execution_count": 2,
   "id": "08f50199-8a3e-436c-aeca-fa438edc0b44",
   "metadata": {},
   "outputs": [
    {
     "data": {
      "text/html": [
       "<div>\n",
       "<style scoped>\n",
       "    .dataframe tbody tr th:only-of-type {\n",
       "        vertical-align: middle;\n",
       "    }\n",
       "\n",
       "    .dataframe tbody tr th {\n",
       "        vertical-align: top;\n",
       "    }\n",
       "\n",
       "    .dataframe thead th {\n",
       "        text-align: right;\n",
       "    }\n",
       "</style>\n",
       "<table border=\"1\" class=\"dataframe\">\n",
       "  <thead>\n",
       "    <tr style=\"text-align: right;\">\n",
       "      <th></th>\n",
       "      <th>FirstName</th>\n",
       "      <th>LastName</th>\n",
       "      <th>Age</th>\n",
       "      <th>Occupation</th>\n",
       "      <th>Ethnicity</th>\n",
       "      <th>Birthplace</th>\n",
       "      <th>PrisonerNumber</th>\n",
       "      <th>AdmissionDate</th>\n",
       "      <th>SentencingLocation</th>\n",
       "      <th>MainOffense</th>\n",
       "      <th>Sentencing</th>\n",
       "      <th>NumberConvictions</th>\n",
       "      <th>ReadWrite</th>\n",
       "      <th>AlcoholStatus</th>\n",
       "      <th>DischargeNote</th>\n",
       "      <th>Description</th>\n",
       "    </tr>\n",
       "  </thead>\n",
       "  <tbody>\n",
       "    <tr>\n",
       "      <th>0</th>\n",
       "      <td>William</td>\n",
       "      <td>Clark</td>\n",
       "      <td>28.0</td>\n",
       "      <td>baker</td>\n",
       "      <td>NaN</td>\n",
       "      <td>Scotland</td>\n",
       "      <td>20.00</td>\n",
       "      <td>4/24/1830</td>\n",
       "      <td>NaN</td>\n",
       "      <td>Murder</td>\n",
       "      <td>12.0</td>\n",
       "      <td>NaN</td>\n",
       "      <td>Can Read or Write</td>\n",
       "      <td>NaN</td>\n",
       "      <td>Pardoned and discharged June 1840. Conduct uni...</td>\n",
       "      <td>Break Baker. Exceedingly rough and uncourteous...</td>\n",
       "    </tr>\n",
       "    <tr>\n",
       "      <th>1</th>\n",
       "      <td>Elijah</td>\n",
       "      <td>Collins</td>\n",
       "      <td>24.0</td>\n",
       "      <td>NaN</td>\n",
       "      <td>Black</td>\n",
       "      <td>NaN</td>\n",
       "      <td>31.00</td>\n",
       "      <td>8/17/1830</td>\n",
       "      <td>NaN</td>\n",
       "      <td>Burglary</td>\n",
       "      <td>10.0</td>\n",
       "      <td>NaN</td>\n",
       "      <td>Can Read or Write</td>\n",
       "      <td>sober</td>\n",
       "      <td>Discharged. Time out. Some hope</td>\n",
       "      <td>Cooks for the sick. Professes to be turned to ...</td>\n",
       "    </tr>\n",
       "    <tr>\n",
       "      <th>2</th>\n",
       "      <td>George</td>\n",
       "      <td>Wilson</td>\n",
       "      <td>30.0</td>\n",
       "      <td>NaN</td>\n",
       "      <td>NaN</td>\n",
       "      <td>NaN</td>\n",
       "      <td>56.00</td>\n",
       "      <td>10/25/1830</td>\n",
       "      <td>NaN</td>\n",
       "      <td>Robbery</td>\n",
       "      <td>NaN</td>\n",
       "      <td>4.0</td>\n",
       "      <td>Can Read or Write</td>\n",
       "      <td>NaN</td>\n",
       "      <td>Discharged by pardon January 13, 1841</td>\n",
       "      <td>Seems perfectly satisfied that he has been a r...</td>\n",
       "    </tr>\n",
       "    <tr>\n",
       "      <th>3</th>\n",
       "      <td>Samiul</td>\n",
       "      <td>Dill</td>\n",
       "      <td>37.0</td>\n",
       "      <td>NaN</td>\n",
       "      <td>Black</td>\n",
       "      <td>Sussex Co. Delaware</td>\n",
       "      <td>323.00</td>\n",
       "      <td>11/21/1834</td>\n",
       "      <td>Montgomery Co.</td>\n",
       "      <td>Larceny</td>\n",
       "      <td>6.0</td>\n",
       "      <td>1.0</td>\n",
       "      <td>Can Read or Write</td>\n",
       "      <td>NaN</td>\n",
       "      <td>Died July 7th, 1839 Died suddenly and without ...</td>\n",
       "      <td>Thinks he knows something of religion. Very lo...</td>\n",
       "    </tr>\n",
       "    <tr>\n",
       "      <th>4</th>\n",
       "      <td>Edward H.</td>\n",
       "      <td>Boyd</td>\n",
       "      <td>20.0</td>\n",
       "      <td>NaN</td>\n",
       "      <td>NaN</td>\n",
       "      <td>Albany, New York</td>\n",
       "      <td>376.00</td>\n",
       "      <td>4/8/1835</td>\n",
       "      <td>Franklin Co.</td>\n",
       "      <td>Stealing</td>\n",
       "      <td>5.0</td>\n",
       "      <td>1.0</td>\n",
       "      <td>Can Read or Write</td>\n",
       "      <td>NaN</td>\n",
       "      <td>Discharged  Time out</td>\n",
       "      <td>Young man of tolerably good mind and informati...</td>\n",
       "    </tr>\n",
       "  </tbody>\n",
       "</table>\n",
       "</div>"
      ],
      "text/plain": [
       "   FirstName LastName   Age Occupation Ethnicity            Birthplace  \\\n",
       "0   William     Clark  28.0      baker        NaN             Scotland   \n",
       "1     Elijah  Collins  24.0        NaN      Black                  NaN   \n",
       "2     George   Wilson  30.0        NaN        NaN                  NaN   \n",
       "3     Samiul     Dill  37.0        NaN      Black  Sussex Co. Delaware   \n",
       "4  Edward H.     Boyd  20.0        NaN        NaN     Albany, New York   \n",
       "\n",
       "  PrisonerNumber  AdmissionDate SentencingLocation MainOffense  Sentencing  \\\n",
       "0           20.00     4/24/1830                NaN      Murder        12.0   \n",
       "1           31.00     8/17/1830                NaN    Burglary        10.0   \n",
       "2           56.00    10/25/1830                NaN     Robbery         NaN   \n",
       "3          323.00    11/21/1834     Montgomery Co.     Larceny         6.0   \n",
       "4          376.00      4/8/1835       Franklin Co.  Stealing           5.0   \n",
       "\n",
       "   NumberConvictions          ReadWrite AlcoholStatus  \\\n",
       "0                NaN  Can Read or Write           NaN   \n",
       "1                NaN  Can Read or Write         sober   \n",
       "2                4.0  Can Read or Write           NaN   \n",
       "3                1.0  Can Read or Write           NaN   \n",
       "4                1.0  Can Read or Write           NaN   \n",
       "\n",
       "                                       DischargeNote  \\\n",
       "0  Pardoned and discharged June 1840. Conduct uni...   \n",
       "1                    Discharged. Time out. Some hope   \n",
       "2              Discharged by pardon January 13, 1841   \n",
       "3  Died July 7th, 1839 Died suddenly and without ...   \n",
       "4                               Discharged  Time out   \n",
       "\n",
       "                                         Description  \n",
       "0  Break Baker. Exceedingly rough and uncourteous...  \n",
       "1  Cooks for the sick. Professes to be turned to ...  \n",
       "2  Seems perfectly satisfied that he has been a r...  \n",
       "3  Thinks he knows something of religion. Very lo...  \n",
       "4  Young man of tolerably good mind and informati...  "
      ]
     },
     "execution_count": 2,
     "metadata": {},
     "output_type": "execute_result"
    }
   ],
   "source": [
    "#Importing Data\n",
    "\n",
    "data = pd.read_csv('Eastern_State_Admissions_Book.csv')\n",
    "\n",
    "data.head()"
   ]
  },
  {
   "cell_type": "markdown",
   "id": "37aacc3c-3f1e-4223-80ea-038f580a283a",
   "metadata": {},
   "source": [
    "<b>Summary Statistics of the Three Numeric Variables in the data set: Age, Sentencing and Number of Convictions<b>"
   ]
  },
  {
   "cell_type": "code",
   "execution_count": 3,
   "id": "3b2249c1-b3e6-4ba6-a1eb-1dc74813ec0c",
   "metadata": {},
   "outputs": [
    {
     "data": {
      "text/html": [
       "<div>\n",
       "<style scoped>\n",
       "    .dataframe tbody tr th:only-of-type {\n",
       "        vertical-align: middle;\n",
       "    }\n",
       "\n",
       "    .dataframe tbody tr th {\n",
       "        vertical-align: top;\n",
       "    }\n",
       "\n",
       "    .dataframe thead th {\n",
       "        text-align: right;\n",
       "    }\n",
       "</style>\n",
       "<table border=\"1\" class=\"dataframe\">\n",
       "  <thead>\n",
       "    <tr style=\"text-align: right;\">\n",
       "      <th></th>\n",
       "      <th>Age</th>\n",
       "      <th>Sentencing</th>\n",
       "      <th>NumberConvictions</th>\n",
       "    </tr>\n",
       "  </thead>\n",
       "  <tbody>\n",
       "    <tr>\n",
       "      <th>count</th>\n",
       "      <td>517.000000</td>\n",
       "      <td>517.000000</td>\n",
       "      <td>513.000000</td>\n",
       "    </tr>\n",
       "    <tr>\n",
       "      <th>mean</th>\n",
       "      <td>29.462282</td>\n",
       "      <td>4.386847</td>\n",
       "      <td>1.619883</td>\n",
       "    </tr>\n",
       "    <tr>\n",
       "      <th>std</th>\n",
       "      <td>9.458858</td>\n",
       "      <td>4.128421</td>\n",
       "      <td>0.967113</td>\n",
       "    </tr>\n",
       "    <tr>\n",
       "      <th>min</th>\n",
       "      <td>12.000000</td>\n",
       "      <td>1.000000</td>\n",
       "      <td>1.000000</td>\n",
       "    </tr>\n",
       "    <tr>\n",
       "      <th>25%</th>\n",
       "      <td>23.000000</td>\n",
       "      <td>2.000000</td>\n",
       "      <td>1.000000</td>\n",
       "    </tr>\n",
       "    <tr>\n",
       "      <th>50%</th>\n",
       "      <td>27.000000</td>\n",
       "      <td>3.000000</td>\n",
       "      <td>1.000000</td>\n",
       "    </tr>\n",
       "    <tr>\n",
       "      <th>75%</th>\n",
       "      <td>35.000000</td>\n",
       "      <td>5.000000</td>\n",
       "      <td>2.000000</td>\n",
       "    </tr>\n",
       "    <tr>\n",
       "      <th>max</th>\n",
       "      <td>71.000000</td>\n",
       "      <td>18.000000</td>\n",
       "      <td>6.000000</td>\n",
       "    </tr>\n",
       "  </tbody>\n",
       "</table>\n",
       "</div>"
      ],
      "text/plain": [
       "              Age  Sentencing  NumberConvictions\n",
       "count  517.000000  517.000000         513.000000\n",
       "mean    29.462282    4.386847           1.619883\n",
       "std      9.458858    4.128421           0.967113\n",
       "min     12.000000    1.000000           1.000000\n",
       "25%     23.000000    2.000000           1.000000\n",
       "50%     27.000000    3.000000           1.000000\n",
       "75%     35.000000    5.000000           2.000000\n",
       "max     71.000000   18.000000           6.000000"
      ]
     },
     "execution_count": 3,
     "metadata": {},
     "output_type": "execute_result"
    }
   ],
   "source": [
    "data.describe()"
   ]
  },
  {
   "cell_type": "markdown",
   "id": "932ffb9d-6be1-4636-a2fd-454fd5fd284e",
   "metadata": {},
   "source": [
    "<b>Exploratory Data Visualization 1:<b>\n",
    "\n"
   ]
  },
  {
   "cell_type": "markdown",
   "id": "92768e63-25fd-4559-8f70-0df8a91a9a35",
   "metadata": {},
   "source": [
    "This data visulization looks to explore the age of admissions to the Eastern State Prison"
   ]
  },
  {
   "cell_type": "code",
   "execution_count": 4,
   "id": "c518c44a-bb48-4162-87c0-b36499959d13",
   "metadata": {},
   "outputs": [
    {
     "data": {
      "text/plain": [
       "Text(0, 0.5, 'Frequency')"
      ]
     },
     "execution_count": 4,
     "metadata": {},
     "output_type": "execute_result"
    },
    {
     "data": {
      "image/png": "[encoded data removed]",
      "text/plain": [
       "<Figure size 432x288 with 1 Axes>"
      ]
     },
     "metadata": {
      "needs_background": "light"
     },
     "output_type": "display_data"
    }
   ],
   "source": [
    "data.groupby('Age').size().plot()\n",
    "\n",
    "plt.xlabel(\"Age\")\n",
    "plt.ylabel(\"Frequency\")"
   ]
  },
  {
   "cell_type": "markdown",
   "id": "b822b930-89d9-4a3e-aa81-c7ae88446091",
   "metadata": {},
   "source": [
    "<b>Exploratory Data Visualization 2:<b>\n",
    "\n",
    "This data visulization looks to explore the freuqency of convictions."
   ]
  },
  {
   "cell_type": "code",
   "execution_count": 5,
   "id": "160b6a9e-5653-489e-81a6-f1dcd2c9e868",
   "metadata": {},
   "outputs": [
    {
     "data": {
      "text/plain": [
       "Text(0, 0.5, 'Frequency')"
      ]
     },
     "execution_count": 5,
     "metadata": {},
     "output_type": "execute_result"
    },
    {
     "data": {
      "image/png": "[encoded data removed]",
      "text/plain": [
       "<Figure size 432x288 with 1 Axes>"
      ]
     },
     "metadata": {
      "needs_background": "light"
     },
     "output_type": "display_data"
    }
   ],
   "source": [
    "data.groupby('NumberConvictions').size().plot.bar()\n",
    "\n",
    "plt.xlabel(\"Number of Convictions\")\n",
    "plt.ylabel(\"Frequency\")"
   ]
  },
  {
   "cell_type": "markdown",
   "id": "65d8f43b-cf3c-4a44-93b1-943178a11295",
   "metadata": {},
   "source": [
    "Exploratory Data Visualization 3:\n",
    "\n",
    "This data visulization looks to explore the freuqency of offenses."
   ]
  },
  {
   "cell_type": "code",
   "execution_count": 6,
   "id": "8c410a6b-a227-4acb-b402-3b9745cde4dc",
   "metadata": {},
   "outputs": [
    {
     "data": {
      "text/plain": [
       "Text(0, 0.5, 'Frequency')"
      ]
     },
     "execution_count": 6,
     "metadata": {},
     "output_type": "execute_result"
    },
    {
     "data": {
      "image/png": "[encoded data removed]",
      "text/plain": [
       "<Figure size 432x288 with 1 Axes>"
      ]
     },
     "metadata": {
      "needs_background": "light"
     },
     "output_type": "display_data"
    }
   ],
   "source": [
    "data.groupby('Sentencing').size().plot()\n",
    "\n",
    "plt.xlabel(\"Length of Sentence (Years)\")\n",
    "plt.ylabel(\"Frequency\")"
   ]
  },
  {
   "cell_type": "markdown",
   "id": "245b4a9b-4e00-45ca-8f79-555c6bc953f6",
   "metadata": {},
   "source": [
    "Exploratory Data Visualization 4:\n",
    "\n",
    "This data visulization looks to explore the freuqency of offenses."
   ]
  },
  {
   "cell_type": "code",
   "execution_count": 7,
   "id": "1235fb4e-13b8-4cb6-a1c2-202d3f56af0d",
   "metadata": {},
   "outputs": [
    {
     "data": {
      "text/plain": [
       "<matplotlib.legend.Legend at 0x7efd7c31d730>"
      ]
     },
     "execution_count": 7,
     "metadata": {},
     "output_type": "execute_result"
    },
    {
     "data": {
      "image/png": "[encoded data removed]",
      "text/plain": [
       "<Figure size 432x432 with 1 Axes>"
      ]
     },
     "metadata": {},
     "output_type": "display_data"
    }
   ],
   "source": [
    "data['ReadWrite'].value_counts().plot.pie(\n",
    "\n",
    "    colors=[\"#228B22\", \"#FFC125\"],\n",
    "    autopct=\"%.2f\",\n",
    "    fontsize=20,\n",
    "    figsize=(6, 6),\n",
    ");\n",
    "\n",
    "plt.legend()"
   ]
  },
  {
   "cell_type": "markdown",
   "id": "f661a2d2-69c0-485d-8f3c-05a3ffb788ac",
   "metadata": {},
   "source": [
    "Exploratory Data Visualization 5:\n",
    "\n",
    "This data visulization looks to explore the freuqency of offenses."
   ]
  },
  {
   "cell_type": "code",
   "execution_count": 8,
   "id": "e5f980d9-ca6a-4223-a36c-9e29d7bcfe81",
   "metadata": {},
   "outputs": [
    {
     "data": {
      "text/plain": [
       "<AxesSubplot:>"
      ]
     },
     "execution_count": 8,
     "metadata": {},
     "output_type": "execute_result"
    },
    {
     "data": {
      "image/png": "[encoded data removed]",
      "text/plain": [
       "<Figure size 432x288 with 1 Axes>"
      ]
     },
     "metadata": {
      "needs_background": "light"
     },
     "output_type": "display_data"
    }
   ],
   "source": [
    "data['MainOffense'].value_counts().plot.bar()\n"
   ]
  },
  {
   "cell_type": "markdown",
   "id": "ce1e1a55-2b55-4928-82e2-4d49fbfd5628",
   "metadata": {},
   "source": [
    "Exploratory Data Visualization 6:\n",
    "\n",
    "This data visulization looks to explore the freuqency of offenses."
   ]
  },
  {
   "cell_type": "code",
   "execution_count": 9,
   "id": "e2c4b4a2-30df-4187-9c44-e7920cea6528",
   "metadata": {},
   "outputs": [
    {
     "data": {
      "text/plain": [
       "<matplotlib.legend.Legend at 0x7efd7c212d60>"
      ]
     },
     "execution_count": 9,
     "metadata": {},
     "output_type": "execute_result"
    },
    {
     "data": {
      "image/png": "[encoded data removed]",
      "text/plain": [
       "<Figure size 432x432 with 1 Axes>"
      ]
     },
     "metadata": {},
     "output_type": "display_data"
    }
   ],
   "source": [
    "data['AlcoholStatus'].value_counts().plot.pie(\n",
    "\n",
    "    colors=[\"#CD2626\", \"#87CEFA\"],\n",
    "    autopct=\"%.2f\",\n",
    "    fontsize=18,\n",
    "    figsize=(6, 6),\n",
    ");\n",
    "\n",
    "plt.legend()"
   ]
  },
  {
   "cell_type": "markdown",
   "id": "7a0be2c2-8989-451a-ba6d-8b38b5c02995",
   "metadata": {},
   "source": [
    "<b> Main Take Aways from Exploratory Data Visualizations:<b>"
   ]
  },
  {
   "cell_type": "markdown",
   "id": "17f5ee2c-840a-4852-84a2-f91245a998de",
   "metadata": {},
   "source": [
    "After exploring the data through some initial visualizations a few key things appeared. The first is that this population is very young. The second is that most of the prisoners here are being sentenced for Larceny with falling frequency of other crimes such as burglary, forgery, stealing and assault. In addition, it also becomes very clear that many of the prisoners sentenced have very little education with almost half lacking the ability to read or write. Lastly, it is also interesting to note that more than 3/4ths of the prisoners here drink alcohol in some capacity. During my analysis I would like to dig deeper to get more accurate means of some of these variables, and analyze to see if there is any relationship between a prisoner's ability to read and write other variables recorded in the data."
   ]
  },
  {
   "cell_type": "markdown",
   "id": "66153ac9-109b-4735-9ebd-9145a3408a9b",
   "metadata": {},
   "source": [
    "<h3>Data Analysis:<h3>"
   ]
  },
  {
   "cell_type": "markdown",
   "id": "0e9195cb-432f-4987-b62d-ec7c1b85afcf",
   "metadata": {},
   "source": [
    "<b>Part 1: Comparing averages to get a better picture of what the average prisoner at Eastern State Penitentiary looks like <b>"
   ]
  },
  {
   "cell_type": "code",
   "execution_count": 10,
   "id": "ecd62bbb-7c5a-4b70-9dd4-14ca2b8516ec",
   "metadata": {},
   "outputs": [
    {
     "name": "stdout",
     "output_type": "stream",
     "text": [
      "4.386847195357833\n"
     ]
    }
   ],
   "source": [
    "# Average Sentence Length\n",
    "\n",
    "avg_sent = data.Sentencing.mean()\n",
    "\n",
    "print(avg_sent)\n"
   ]
  },
  {
   "cell_type": "code",
   "execution_count": 11,
   "id": "d60a26b4-8c63-4ae9-9ab4-0dcef9b6d239",
   "metadata": {},
   "outputs": [
    {
     "name": "stdout",
     "output_type": "stream",
     "text": [
      "1.6198830409356726\n"
     ]
    }
   ],
   "source": [
    "#Average Number of Convictions\n",
    "\n",
    "avg_conv = data.NumberConvictions.mean()\n",
    "\n",
    "print(avg_conv)"
   ]
  },
  {
   "cell_type": "code",
   "execution_count": 12,
   "id": "ed251624-5bbb-4842-be9f-5df4dcb23c3d",
   "metadata": {},
   "outputs": [
    {
     "name": "stdout",
     "output_type": "stream",
     "text": [
      "29.46228239845261\n",
      "27.0\n"
     ]
    }
   ],
   "source": [
    "#Average Number of Convictions\n",
    "\n",
    "avg_age = data.Age.mean()\n",
    "med_age = data.Age.median()\n",
    "\n",
    "print(avg_age)\n",
    "print(med_age)"
   ]
  },
  {
   "cell_type": "code",
   "execution_count": 13,
   "id": "4bd1747c-7ca2-454d-8fc2-74be78da9fdb",
   "metadata": {},
   "outputs": [
    {
     "data": {
      "text/plain": [
       "ReadWrite\n",
       "Can Read or Write       4.023529\n",
       "Cannot read or write    5.000000\n",
       "Name: Sentencing, dtype: float64"
      ]
     },
     "execution_count": 13,
     "metadata": {},
     "output_type": "execute_result"
    }
   ],
   "source": [
    "#Average Sentence Length with Respect of the Prisoners Ablitity to Read and Write\n",
    "\n",
    "data.groupby('ReadWrite')['Sentencing'].mean()"
   ]
  },
  {
   "cell_type": "code",
   "execution_count": 13,
   "id": "b901114f-93ac-4ba3-8db6-0d5039866e4e",
   "metadata": {},
   "outputs": [
    {
     "data": {
      "text/plain": [
       "<matplotlib.legend.Legend at 0x7f3a7e205af0>"
      ]
     },
     "execution_count": 13,
     "metadata": {},
     "output_type": "execute_result"
    },
    {
     "data": {
      "image/png": "[encoded data removed]",
      "text/plain": [
       "<Figure size 432x288 with 1 Axes>"
      ]
     },
     "metadata": {
      "needs_background": "light"
     },
     "output_type": "display_data"
    }
   ],
   "source": [
    "#Comparing Sentence Length Between the Prisoners ability to Read and Write\n",
    "\n",
    "data.groupby('ReadWrite')['Sentencing'].plot.hist()\n",
    "\n",
    "plt.xlabel(\"Length of Sentence (Years)\")\n",
    "plt.ylabel(\"Frequency\")\n",
    "plt.legend()"
   ]
  },
  {
   "cell_type": "code",
   "execution_count": 14,
   "id": "01146dfc-b104-4837-931e-1da26e52bf8c",
   "metadata": {},
   "outputs": [
    {
     "data": {
      "text/plain": [
       "<matplotlib.legend.Legend at 0x7f3a7e10f160>"
      ]
     },
     "execution_count": 14,
     "metadata": {},
     "output_type": "execute_result"
    },
    {
     "data": {
      "image/png": "[encoded data removed]",
      "text/plain": [
       "<Figure size 432x288 with 1 Axes>"
      ]
     },
     "metadata": {
      "needs_background": "light"
     },
     "output_type": "display_data"
    }
   ],
   "source": [
    "#Comparing Number of Covictions Between the Prisoners ability to Read and Write\n",
    "\n",
    "data.groupby('ReadWrite')['NumberConvictions'].plot.hist()\n",
    "\n",
    "plt.xlabel(\"Number of Conviction\")\n",
    "plt.ylabel(\"Frequency\")\n",
    "plt.legend()"
   ]
  },
  {
   "cell_type": "markdown",
   "id": "496d2ebc-52a8-414f-9a21-2c4c252a547b",
   "metadata": {},
   "source": [
    "<b>Results Summary<b>"
   ]
  },
  {
   "cell_type": "markdown",
   "id": "54f00240-7f07-4934-9b11-de41d46077f4",
   "metadata": {},
   "source": [
    "Expanding on the exploratory data visualizations in the previous section I wanted to calculate the means of different characteristics to get a better picture of the average prisoner at Eastern State Penitentiary. Much of the result confirms suspicions I had from my initial parse through the data. With the average sentence length around 4.38 years, average number of convictions being around 1.6 and average age of a prisoner being around 29 years old. Interestingly the median age of prisoners was slightly lower at 27 years old. In addition, I also found that it seemed the longer prison sentences tended to be served by those who did not have the ability to read or write. In my proceeding analysis I would like to preform a statistical test to confirm these suspicions. "
   ]
  },
  {
   "cell_type": "markdown",
   "id": "ee5e9861-20a3-487c-a191-72ce8eaca6b2",
   "metadata": {},
   "source": [
    "<b>Part 2: Statistical Analysis Of a Prisoner's Ability to Read and Write Compared to Their Sentence Length<b>"
   ]
  },
  {
   "cell_type": "code",
   "execution_count": 15,
   "id": "75d736b8-a028-48b2-936e-62ba87bf12d3",
   "metadata": {},
   "outputs": [
    {
     "data": {
      "text/html": [
       "<div>\n",
       "<style scoped>\n",
       "    .dataframe tbody tr th:only-of-type {\n",
       "        vertical-align: middle;\n",
       "    }\n",
       "\n",
       "    .dataframe tbody tr th {\n",
       "        vertical-align: top;\n",
       "    }\n",
       "\n",
       "    .dataframe thead th {\n",
       "        text-align: right;\n",
       "    }\n",
       "</style>\n",
       "<table border=\"1\" class=\"dataframe\">\n",
       "  <thead>\n",
       "    <tr style=\"text-align: right;\">\n",
       "      <th></th>\n",
       "      <th>count</th>\n",
       "      <th>mean</th>\n",
       "      <th>std</th>\n",
       "      <th>min</th>\n",
       "      <th>25%</th>\n",
       "      <th>50%</th>\n",
       "      <th>75%</th>\n",
       "      <th>max</th>\n",
       "    </tr>\n",
       "    <tr>\n",
       "      <th>ReadWrite</th>\n",
       "      <th></th>\n",
       "      <th></th>\n",
       "      <th></th>\n",
       "      <th></th>\n",
       "      <th></th>\n",
       "      <th></th>\n",
       "      <th></th>\n",
       "      <th></th>\n",
       "    </tr>\n",
       "  </thead>\n",
       "  <tbody>\n",
       "    <tr>\n",
       "      <th>Can Read or Write</th>\n",
       "      <td>340.0</td>\n",
       "      <td>4.023529</td>\n",
       "      <td>3.514744</td>\n",
       "      <td>1.0</td>\n",
       "      <td>2.0</td>\n",
       "      <td>3.0</td>\n",
       "      <td>4.0</td>\n",
       "      <td>18.0</td>\n",
       "    </tr>\n",
       "    <tr>\n",
       "      <th>Cannot read or write</th>\n",
       "      <td>170.0</td>\n",
       "      <td>5.000000</td>\n",
       "      <td>4.930283</td>\n",
       "      <td>1.0</td>\n",
       "      <td>2.0</td>\n",
       "      <td>3.0</td>\n",
       "      <td>5.0</td>\n",
       "      <td>18.0</td>\n",
       "    </tr>\n",
       "  </tbody>\n",
       "</table>\n",
       "</div>"
      ],
      "text/plain": [
       "                      count      mean       std  min  25%  50%  75%   max\n",
       "ReadWrite                                                                \n",
       "Can Read or Write     340.0  4.023529  3.514744  1.0  2.0  3.0  4.0  18.0\n",
       "Cannot read or write  170.0  5.000000  4.930283  1.0  2.0  3.0  5.0  18.0"
      ]
     },
     "execution_count": 15,
     "metadata": {},
     "output_type": "execute_result"
    }
   ],
   "source": [
    "#Getting Description of Data to Compare Sentence Length with Respect to a Prisoner's Ability to Read and Write\n",
    "\n",
    "data.groupby('ReadWrite')['Sentencing'].describe()"
   ]
  },
  {
   "cell_type": "code",
   "execution_count": 16,
   "id": "6146e7a8-afca-4707-bf14-ed5d6aaea0f1",
   "metadata": {},
   "outputs": [
    {
     "data": {
      "text/plain": [
       "<AxesSubplot:title={'center':'Sentencing'}, xlabel='ReadWrite'>"
      ]
     },
     "execution_count": 16,
     "metadata": {},
     "output_type": "execute_result"
    },
    {
     "data": {
      "image/png": "[encoded data removed]",
      "text/plain": [
       "<Figure size 432x288 with 1 Axes>"
      ]
     },
     "metadata": {
      "needs_background": "light"
     },
     "output_type": "display_data"
    }
   ],
   "source": [
    "#Box Plot Comparing Sentence Length with Respect to a Prisoners Ability to Read and Write \n",
    "\n",
    "data.boxplot(column=['Sentencing'], by='ReadWrite')"
   ]
  },
  {
   "cell_type": "code",
   "execution_count": 23,
   "id": "0feaa696-f28e-4e26-9834-23f4e85eea40",
   "metadata": {},
   "outputs": [],
   "source": [
    "#Getting rid of NaN values\n",
    "\n",
    "##df = data[data['Sentencing'].notna()\n",
    "\n",
    "df = data.dropna(subset = ['Sentencing'])\n",
    "\n"
   ]
  },
  {
   "cell_type": "code",
   "execution_count": 24,
   "id": "9a9030d6-d202-4f69-8063-a635e9517deb",
   "metadata": {},
   "outputs": [
    {
     "name": "stdout",
     "output_type": "stream",
     "text": [
      "(340, 16)\n",
      "(170, 16)\n"
     ]
    }
   ],
   "source": [
    "#Grouping Data by the Prisoner's Ability to Read and Write\n",
    "\n",
    "\n",
    "sample_yes = df[(df['ReadWrite'] == 'Can Read or Write')]\n",
    "sample_no = df[(df['ReadWrite'] == 'Cannot read or write')]\n",
    "\n",
    "\n",
    "\n",
    "\n",
    "print(sample_yes.shape)\n",
    "print(sample_no.shape)"
   ]
  },
  {
   "cell_type": "markdown",
   "id": "bb0ec4b8-aefb-42dc-8b2b-a47f21ee52c5",
   "metadata": {},
   "source": [
    "Data count is not the same. To fix this I will trim the 'sample_no' to match 'sample_yes'."
   ]
  },
  {
   "cell_type": "code",
   "execution_count": 27,
   "id": "3a25a38c-efe1-46d9-87fe-b3abbe5aa43a",
   "metadata": {},
   "outputs": [
    {
     "name": "stdout",
     "output_type": "stream",
     "text": [
      "(170, 16)\n",
      "(170, 16)\n"
     ]
    }
   ],
   "source": [
    "#Trimming Data\n",
    "\n",
    "sample_yes = sample_yes.sample(170)\n",
    "\n",
    "print(sample_yes.shape)\n",
    "print(sample_no.shape)"
   ]
  },
  {
   "cell_type": "code",
   "execution_count": 28,
   "id": "72ddb259-85b6-4a3c-b6be-ab30543fd533",
   "metadata": {},
   "outputs": [
    {
     "data": {
      "text/plain": [
       "(array([14.,  4.,  4., 12., 41., 66., 19.,  5.,  1.,  4.]),\n",
       " array([-2.67331427, -2.11703486, -1.56075544, -1.00447602, -0.44819661,\n",
       "         0.10808281,  0.66436223,  1.22064164,  1.77692106,  2.33320047,\n",
       "         2.88947989]),\n",
       " <BarContainer object of 10 artists>)"
      ]
     },
     "execution_count": 28,
     "metadata": {},
     "output_type": "execute_result"
    },
    {
     "data": {
      "image/png": "[encoded data removed]",
      "text/plain": [
       "<Figure size 432x288 with 1 Axes>"
      ]
     },
     "metadata": {
      "needs_background": "light"
     },
     "output_type": "display_data"
    }
   ],
   "source": [
    "#Calculating and graphing residuals \n",
    "diff_res_read_sent = scale(np.array(sample_yes['Sentencing']) - np.array(sample_no['Sentencing']))\n",
    "plt.hist(diff_res_read_sent)"
   ]
  },
  {
   "cell_type": "markdown",
   "id": "298a2fed-07f6-4a94-a4a7-8f889cb4ec4e",
   "metadata": {},
   "source": [
    "This data does not look to be normally distributed. Will make QQ plot to further verify that data is not normally disrtibuted."
   ]
  },
  {
   "cell_type": "code",
   "execution_count": 29,
   "id": "90c464f1-4a9f-460c-a60e-b6d6df7f34f8",
   "metadata": {},
   "outputs": [
    {
     "data": {
      "image/png": "[encoded data removed]",
      "text/plain": [
       "<Figure size 432x288 with 1 Axes>"
      ]
     },
     "metadata": {
      "needs_background": "light"
     },
     "output_type": "display_data"
    }
   ],
   "source": [
    "#QQ plot\n",
    "\n",
    "stats.probplot(diff_res_read_sent, plot=plt, dist='norm');"
   ]
  },
  {
   "cell_type": "markdown",
   "id": "0ed35664-6a35-46f6-8326-2462e4dac2e1",
   "metadata": {},
   "source": [
    "Residuals look high. Most likely will not be statistically significant"
   ]
  },
  {
   "cell_type": "code",
   "execution_count": 45,
   "id": "ab9c0c68-ff88-4352-ae42-eaac9bdf4200",
   "metadata": {},
   "outputs": [
    {
     "data": {
      "text/plain": [
       "LeveneResult(statistic=1.6434934497816582, pvalue=0.2007254536539105)"
      ]
     },
     "execution_count": 45,
     "metadata": {},
     "output_type": "execute_result"
    }
   ],
   "source": [
    "#t-test\n",
    "\n",
    "stats.levene(sample_yes['Sentencing'], sample_no['Sentencing'])"
   ]
  },
  {
   "cell_type": "markdown",
   "id": "74d07b7d-faaf-461e-b8c4-627b00edd16c",
   "metadata": {},
   "source": [
    " The p-value is high so we have to accept the null hypothesis. The means are not statistically different."
   ]
  },
  {
   "cell_type": "code",
   "execution_count": 46,
   "id": "0a048c58-7fde-4b13-9f23-aaf4d15a2cac",
   "metadata": {},
   "outputs": [
    {
     "name": "stdout",
     "output_type": "stream",
     "text": [
      "Age                  95.558960\n",
      "Sentencing           16.090811\n",
      "NumberConvictions     1.050493\n",
      "dtype: float64\n",
      "Age                  86.729360\n",
      "Sentencing           24.307692\n",
      "NumberConvictions     0.560299\n",
      "dtype: float64\n"
     ]
    },
    {
     "name": "stderr",
     "output_type": "stream",
     "text": [
      "/tmp/ipykernel_160/2963497352.py:2: FutureWarning: Dropping of nuisance columns in DataFrame reductions (with 'numeric_only=None') is deprecated; in a future version this will raise TypeError.  Select only valid columns before calling the reduction.\n",
      "  print(sample_yes.var())\n",
      "/tmp/ipykernel_160/2963497352.py:3: FutureWarning: Dropping of nuisance columns in DataFrame reductions (with 'numeric_only=None') is deprecated; in a future version this will raise TypeError.  Select only valid columns before calling the reduction.\n",
      "  print(sample_no.var())\n"
     ]
    }
   ],
   "source": [
    "#Showing different Variances between groups\n",
    "print(sample_yes.var())\n",
    "print(sample_no.var())"
   ]
  },
  {
   "cell_type": "markdown",
   "id": "f3982a11-aaa9-4793-a34c-a76d73e9b075",
   "metadata": {},
   "source": [
    "We can also verify the variances are different"
   ]
  },
  {
   "cell_type": "markdown",
   "id": "04564c03-6136-4af9-97f0-493abdd505cf",
   "metadata": {},
   "source": [
    "<b>Results Summary<b>"
   ]
  },
  {
   "cell_type": "markdown",
   "id": "213d3d0e-95c9-452f-bc9a-4ba4a2e76cfe",
   "metadata": {},
   "source": [
    "In this section of my analysis I looked to analyze the relationship between a person's ability to read and write and the length of their sentence. I first did some initial analysis looking at the distribution of residuals. I did this by creating a histogram and QQ plot. Both these results showed the data to not be very normally distributed. One of the main reasons I believe this to be the case is that since a lot of the data was missing I had to filter it out in order to perform the t-test. If there was more data I think there would be a greater chance in the residuals showing a normal distribution. I still proceeded to perform a t-test and got a result that was not statistically significant. Showing that we cannot reject the null hypothesis that the ability to read and write has an effect on the length of the prison sentence. Given that previous data visualizations seem to potentially show such a relationship that came as a bit of a surprise."
   ]
  },
  {
   "cell_type": "markdown",
   "id": "5062eb1b-786c-4979-92c1-bc018f30f687",
   "metadata": {},
   "source": [
    "<b>Part 3: Linear Regression<b>"
   ]
  },
  {
   "cell_type": "code",
   "execution_count": 55,
   "id": "29d949fa-880c-4827-ae02-574f05924101",
   "metadata": {},
   "outputs": [
    {
     "name": "stdout",
     "output_type": "stream",
     "text": [
      "                            OLS Regression Results                            \n",
      "==============================================================================\n",
      "Dep. Variable:             Sentencing   R-squared:                       0.011\n",
      "Model:                            OLS   Adj. R-squared:                  0.009\n",
      "Method:                 Least Squares   F-statistic:                     5.402\n",
      "Date:                Fri, 11 Mar 2022   Prob (F-statistic):             0.0205\n",
      "Time:                        03:12:48   Log-Likelihood:                -1440.9\n",
      "No. Observations:                 511   AIC:                             2886.\n",
      "Df Residuals:                     509   BIC:                             2894.\n",
      "Df Model:                           1                                         \n",
      "Covariance Type:            nonrobust                                         \n",
      "=====================================================================================\n",
      "                        coef    std err          t      P>|t|      [0.025      0.975]\n",
      "-------------------------------------------------------------------------------------\n",
      "Intercept             5.0445      0.352     14.348      0.000       4.354       5.735\n",
      "NumberConvictions    -0.4354      0.187     -2.324      0.021      -0.803      -0.067\n",
      "==============================================================================\n",
      "Omnibus:                      244.205   Durbin-Watson:                   1.459\n",
      "Prob(Omnibus):                  0.000   Jarque-Bera (JB):              911.865\n",
      "Skew:                           2.292   Prob(JB):                    9.80e-199\n",
      "Kurtosis:                       7.671   Cond. No.                         4.49\n",
      "==============================================================================\n",
      "\n",
      "Notes:\n",
      "[1] Standard Errors assume that the covariance matrix of the errors is correctly specified.\n"
     ]
    }
   ],
   "source": [
    "mod = smf.ols(formula='Sentencing ~ NumberConvictions', data=df)\n",
    "\n",
    "res = mod.fit()\n",
    "\n",
    "print(res.summary())"
   ]
  },
  {
   "cell_type": "code",
   "execution_count": 66,
   "id": "382f492f-dc81-4ae6-af43-d07417508794",
   "metadata": {},
   "outputs": [
    {
     "data": {
      "text/plain": [
       "(array([ 12., 100., 255.,  62.,  26.,   9.,   7.,   9.,   1.,  30.]),\n",
       " array([-1.33677143, -0.87017976, -0.40358809,  0.06300357,  0.52959524,\n",
       "         0.9961869 ,  1.46277857,  1.92937023,  2.3959619 ,  2.86255356,\n",
       "         3.32914523]),\n",
       " <BarContainer object of 10 artists>)"
      ]
     },
     "execution_count": 66,
     "metadata": {},
     "output_type": "execute_result"
    },
    {
     "data": {
      "image/png": "[encoded data removed]",
      "text/plain": [
       "<Figure size 432x288 with 1 Axes>"
      ]
     },
     "metadata": {
      "needs_background": "light"
     },
     "output_type": "display_data"
    }
   ],
   "source": [
    "#Calculating and graphing residuals \n",
    "diff_res_sent_con = scale(np.array(data['Sentencing']) - np.array(data['NumberConvictions']))\n",
    "plt.hist(diff_res_sent_con)"
   ]
  },
  {
   "cell_type": "code",
   "execution_count": 56,
   "id": "3333d19a-04ac-4bc9-9363-5d9ab57808c8",
   "metadata": {},
   "outputs": [
    {
     "data": {
      "image/png": "[encoded data removed]",
      "text/plain": [
       "<Figure size 864x576 with 4 Axes>"
      ]
     },
     "metadata": {
      "needs_background": "light"
     },
     "output_type": "display_data"
    }
   ],
   "source": [
    "fig = plt.figure(figsize=(12,8))\n",
    "fig = sm.graphics.plot_regress_exog(model, 'NumberConvictions', fig= fig)"
   ]
  },
  {
   "cell_type": "code",
   "execution_count": null,
   "id": "6663d338-2379-4cb5-ac1f-a31d7ec6b93a",
   "metadata": {},
   "outputs": [],
   "source": []
  },
  {
   "cell_type": "markdown",
   "id": "13da4767-db17-4e57-aebf-a283046a14b9",
   "metadata": {},
   "source": [
    "<b>Results Summary:<b>"
   ]
  },
  {
   "cell_type": "markdown",
   "id": "fa3c433d-5970-456c-a434-4ead1facac86",
   "metadata": {},
   "source": []
  },
  {
   "cell_type": "markdown",
   "id": "718f73da-9d2f-458b-afb5-d13a853e5d53",
   "metadata": {},
   "source": [
    "<b>Final Thoughts:<b>"
   ]
  },
  {
   "cell_type": "markdown",
   "id": "a6ddac62-113c-4989-8548-acb8c2103d3a",
   "metadata": {},
   "source": []
  }
 ],
 "metadata": {
  "kernelspec": {
   "display_name": "Python 3 (ipykernel)",
   "language": "python",
   "name": "python3"
  },
  "language_info": {
   "codemirror_mode": {
    "name": "ipython",
    "version": 3
   },
   "file_extension": ".py",
   "mimetype": "text/x-python",
   "name": "python",
   "nbconvert_exporter": "python",
   "pygments_lexer": "ipython3",
   "version": "3.9.6"
  }
 },
 "nbformat": 4,
 "nbformat_minor": 5
}
